{
  "nbformat": 4,
  "nbformat_minor": 0,
  "metadata": {
    "colab": {
      "name": "algorithm_model3.ipynb",
      "provenance": [],
      "collapsed_sections": []
    },
    "kernelspec": {
      "name": "python3",
      "display_name": "Python 3"
    },
    "language_info": {
      "name": "python"
    }
  },
  "cells": [
    {
      "cell_type": "markdown",
      "source": [
        "# import library"
      ],
      "metadata": {
        "id": "71caoEAUL2jH"
      }
    },
    {
      "cell_type": "code",
      "execution_count": 1,
      "metadata": {
        "id": "4TXi9kJbEedL"
      },
      "outputs": [],
      "source": [
        "import tensorflow as tf\n",
        "from tensorflow import keras\n",
        "from tensorflow.keras import layers, models\n",
        "import numpy as np \n",
        "import matplotlib.pyplot as plt "
      ]
    },
    {
      "cell_type": "markdown",
      "source": [
        "# MNIST Data\n",
        "#### MNIST data located in tensorflow > keras > datasets > mnist\n",
        "#### Split data to (train images, trainlabels) and (test images, test labels)"
      ],
      "metadata": {
        "id": "8BsXJXtGL-ge"
      }
    },
    {
      "cell_type": "code",
      "source": [
        "mnist = keras.datasets.mnist\n",
        "(train_images, train_labels), (test_images, test_labels) = mnist.load_data()"
      ],
      "metadata": {
        "colab": {
          "base_uri": "https://localhost:8080/"
        },
        "id": "-GR2KAkSEtOA",
        "outputId": "fcec9e94-18a9-4aeb-c9b4-0668cdda9acc"
      },
      "execution_count": 2,
      "outputs": [
        {
          "output_type": "stream",
          "name": "stdout",
          "text": [
            "Downloading data from https://storage.googleapis.com/tensorflow/tf-keras-datasets/mnist.npz\n",
            "11493376/11490434 [==============================] - 0s 0us/step\n",
            "11501568/11490434 [==============================] - 0s 0us/step\n"
          ]
        }
      ]
    },
    {
      "cell_type": "markdown",
      "source": [
        "#### Total 60000 Train images and Train labels (6000 images for single class)\n",
        "#### Shape of single image: 28 * 28 (pixel)"
      ],
      "metadata": {
        "id": "sRx_gdkFMTr6"
      }
    },
    {
      "cell_type": "code",
      "source": [
        "print('Shape of Train images :',train_images.shape)\n",
        "print('Shape of Train labels : ', train_labels.shape)\n",
        "print('\\nShape of Test images : ', test_images.shape)\n",
        "print(\"Shape of Test labels : \",test_labels.shape)"
      ],
      "metadata": {
        "colab": {
          "base_uri": "https://localhost:8080/"
        },
        "id": "yj5hqL2GMeAS",
        "outputId": "d79f8cec-656c-4a2b-bb66-88bc99f78cd6"
      },
      "execution_count": 3,
      "outputs": [
        {
          "output_type": "stream",
          "name": "stdout",
          "text": [
            "Shape of Train images : (60000, 28, 28)\n",
            "Shape of Train labels :  (60000,)\n",
            "\n",
            "Shape of Test images :  (10000, 28, 28)\n",
            "Shape of Test labels :  (10000,)\n"
          ]
        }
      ]
    },
    {
      "cell_type": "code",
      "source": [
        "print('Train labels : ',train_labels)"
      ],
      "metadata": {
        "colab": {
          "base_uri": "https://localhost:8080/"
        },
        "id": "wXw4VSn7Mk7h",
        "outputId": "493baccb-7855-4f5d-c373-ae6f11567a38"
      },
      "execution_count": 4,
      "outputs": [
        {
          "output_type": "stream",
          "name": "stdout",
          "text": [
            "Train labels :  [5 0 4 ... 5 6 8]\n"
          ]
        }
      ]
    },
    {
      "cell_type": "markdown",
      "source": [
        "# Plot first train image\n",
        "#### when value is close to 0: dark\n",
        "#### when value is close to 255: white"
      ],
      "metadata": {
        "id": "J9BDaxj9MrMC"
      }
    },
    {
      "cell_type": "code",
      "source": [
        "print(train_images[1])"
      ],
      "metadata": {
        "colab": {
          "base_uri": "https://localhost:8080/"
        },
        "id": "J1IorsX7MzUn",
        "outputId": "8043d20e-b0f6-491b-a9f8-860edb235bf7"
      },
      "execution_count": 5,
      "outputs": [
        {
          "output_type": "stream",
          "name": "stdout",
          "text": [
            "[[  0   0   0   0   0   0   0   0   0   0   0   0   0   0   0   0   0   0\n",
            "    0   0   0   0   0   0   0   0   0   0]\n",
            " [  0   0   0   0   0   0   0   0   0   0   0   0   0   0   0   0   0   0\n",
            "    0   0   0   0   0   0   0   0   0   0]\n",
            " [  0   0   0   0   0   0   0   0   0   0   0   0   0   0   0   0   0   0\n",
            "    0   0   0   0   0   0   0   0   0   0]\n",
            " [  0   0   0   0   0   0   0   0   0   0   0   0   0   0   0   0   0   0\n",
            "    0   0   0   0   0   0   0   0   0   0]\n",
            " [  0   0   0   0   0   0   0   0   0   0   0   0   0   0   0  51 159 253\n",
            "  159  50   0   0   0   0   0   0   0   0]\n",
            " [  0   0   0   0   0   0   0   0   0   0   0   0   0   0  48 238 252 252\n",
            "  252 237   0   0   0   0   0   0   0   0]\n",
            " [  0   0   0   0   0   0   0   0   0   0   0   0   0  54 227 253 252 239\n",
            "  233 252  57   6   0   0   0   0   0   0]\n",
            " [  0   0   0   0   0   0   0   0   0   0   0  10  60 224 252 253 252 202\n",
            "   84 252 253 122   0   0   0   0   0   0]\n",
            " [  0   0   0   0   0   0   0   0   0   0   0 163 252 252 252 253 252 252\n",
            "   96 189 253 167   0   0   0   0   0   0]\n",
            " [  0   0   0   0   0   0   0   0   0   0  51 238 253 253 190 114 253 228\n",
            "   47  79 255 168   0   0   0   0   0   0]\n",
            " [  0   0   0   0   0   0   0   0   0  48 238 252 252 179  12  75 121  21\n",
            "    0   0 253 243  50   0   0   0   0   0]\n",
            " [  0   0   0   0   0   0   0   0  38 165 253 233 208  84   0   0   0   0\n",
            "    0   0 253 252 165   0   0   0   0   0]\n",
            " [  0   0   0   0   0   0   0   7 178 252 240  71  19  28   0   0   0   0\n",
            "    0   0 253 252 195   0   0   0   0   0]\n",
            " [  0   0   0   0   0   0   0  57 252 252  63   0   0   0   0   0   0   0\n",
            "    0   0 253 252 195   0   0   0   0   0]\n",
            " [  0   0   0   0   0   0   0 198 253 190   0   0   0   0   0   0   0   0\n",
            "    0   0 255 253 196   0   0   0   0   0]\n",
            " [  0   0   0   0   0   0  76 246 252 112   0   0   0   0   0   0   0   0\n",
            "    0   0 253 252 148   0   0   0   0   0]\n",
            " [  0   0   0   0   0   0  85 252 230  25   0   0   0   0   0   0   0   0\n",
            "    7 135 253 186  12   0   0   0   0   0]\n",
            " [  0   0   0   0   0   0  85 252 223   0   0   0   0   0   0   0   0   7\n",
            "  131 252 225  71   0   0   0   0   0   0]\n",
            " [  0   0   0   0   0   0  85 252 145   0   0   0   0   0   0   0  48 165\n",
            "  252 173   0   0   0   0   0   0   0   0]\n",
            " [  0   0   0   0   0   0  86 253 225   0   0   0   0   0   0 114 238 253\n",
            "  162   0   0   0   0   0   0   0   0   0]\n",
            " [  0   0   0   0   0   0  85 252 249 146  48  29  85 178 225 253 223 167\n",
            "   56   0   0   0   0   0   0   0   0   0]\n",
            " [  0   0   0   0   0   0  85 252 252 252 229 215 252 252 252 196 130   0\n",
            "    0   0   0   0   0   0   0   0   0   0]\n",
            " [  0   0   0   0   0   0  28 199 252 252 253 252 252 233 145   0   0   0\n",
            "    0   0   0   0   0   0   0   0   0   0]\n",
            " [  0   0   0   0   0   0   0  25 128 252 253 252 141  37   0   0   0   0\n",
            "    0   0   0   0   0   0   0   0   0   0]\n",
            " [  0   0   0   0   0   0   0   0   0   0   0   0   0   0   0   0   0   0\n",
            "    0   0   0   0   0   0   0   0   0   0]\n",
            " [  0   0   0   0   0   0   0   0   0   0   0   0   0   0   0   0   0   0\n",
            "    0   0   0   0   0   0   0   0   0   0]\n",
            " [  0   0   0   0   0   0   0   0   0   0   0   0   0   0   0   0   0   0\n",
            "    0   0   0   0   0   0   0   0   0   0]\n",
            " [  0   0   0   0   0   0   0   0   0   0   0   0   0   0   0   0   0   0\n",
            "    0   0   0   0   0   0   0   0   0   0]]\n"
          ]
        }
      ]
    },
    {
      "cell_type": "markdown",
      "source": [
        "#### Plot first 10 train images and corresponding labels"
      ],
      "metadata": {
        "id": "wHdWI3GtM5eX"
      }
    },
    {
      "cell_type": "code",
      "source": [
        "print('First 10 Train images in MNIST dataset\\n')\n",
        "for i in range(10):\n",
        "    plt.subplot(1, 10, i+1)\n",
        "    plt.xticks([])\n",
        "    plt.yticks([])\n",
        "    plt.imshow(train_images[i])\n",
        "plt.show()\n",
        "print('\\nTrain labels match with Train label sequentialy\\n',train_labels[:10])"
      ],
      "metadata": {
        "colab": {
          "base_uri": "https://localhost:8080/",
          "height": 148
        },
        "id": "Fi0tcTMaM4Io",
        "outputId": "c6bb0063-eb79-4c85-8249-d5fdd4c66cd4"
      },
      "execution_count": 6,
      "outputs": [
        {
          "output_type": "stream",
          "name": "stdout",
          "text": [
            "First 10 Train images in MNIST dataset\n",
            "\n"
          ]
        },
        {
          "output_type": "display_data",
          "data": {
            "text/plain": [
              "<Figure size 432x288 with 10 Axes>"
            ],
            "image/png": "[encoded data removed]"
          },
          "metadata": {}
        },
        {
          "output_type": "stream",
          "name": "stdout",
          "text": [
            "\n",
            "Train labels match with Train label sequentialy\n",
            " [5 0 4 1 9 2 1 3 1 4]\n"
          ]
        }
      ]
    },
    {
      "cell_type": "markdown",
      "source": [
        "#### change data shape (60000 * 28 * 28) to (60000 * 28 * 28 * 1)"
      ],
      "metadata": {
        "id": "feXgP0H5NG43"
      }
    },
    {
      "cell_type": "code",
      "source": [
        "train_images = tf.reshape(train_images, [-1, 28, 28, 1])\n",
        "test_images = tf.reshape(test_images, [-1, 28, 28, 1])"
      ],
      "metadata": {
        "id": "DlYlt9FtEx8F"
      },
      "execution_count": 7,
      "outputs": []
    },
    {
      "cell_type": "code",
      "source": [
        "def select_model(model_number):\n",
        "    if model_number == 1:\n",
        "        model = keras.models.Sequential([\n",
        "                    keras.layers.Conv2D(32, (3,3), activation = 'relu', input_shape = (28, 28,1)),  # Layer 1 \n",
        "                    keras.layers.MaxPool2D((2,2)),                                                  # Layer 2 \n",
        "                    keras.layers.Flatten(),\n",
        "                    keras.layers.Dense(10, activation = 'softmax')])                                # Layer 3\n",
        "\n",
        "    if model_number == 2:\n",
        "        model = keras.models.Sequential([\n",
        "                    keras.layers.Conv2D(32, (3,3), activation = 'relu', input_shape=(28,28,1)),     # Layer 1 \n",
        "                    keras.layers.MaxPool2D((2,2)),                                                  # Layer 2\n",
        "                    keras.layers.Conv2D(64, (3,3), activation = 'relu'),                            # Layer 3 \n",
        "                    keras.layers.MaxPool2D((2,2)),                                                  # Layer 4\n",
        "                    keras.layers.Flatten(),\n",
        "                    keras.layers.Dense(10, activation = 'softmax')])                                # Layer 5\n",
        "                    \n",
        "    if model_number == 3: \n",
        "        model = keras.models.Sequential([\n",
        "                    keras.layers.Conv2D(32, (3,3), activation = 'relu', input_shape = (28, 28,1)),  # Layer 1\n",
        "                    keras.layers.MaxPool2D((2,2)),                                                  # Layer 2\n",
        "                    keras.layers.Conv2D(64, (3,3), activation = 'relu'),                            # Layer 3\n",
        "                    keras.layers.Conv2D(64, (3,3), activation = 'relu'),                            # Layer 4\n",
        "                    keras.layers.MaxPool2D((2,2)),                                                  # Layer 5\n",
        "                    keras.layers.Conv2D(128, (3,3), activation = 'relu'),                           # Layer 6\n",
        "                    keras.layers.Flatten(),\n",
        "                    keras.layers.Dense(10, activation = 'softmax')])                                # Layer 7\n",
        "    \n",
        "    return model "
      ],
      "metadata": {
        "id": "z57WMSFFE80n"
      },
      "execution_count": 8,
      "outputs": []
    },
    {
      "cell_type": "code",
      "source": [
        "model = select_model(3)"
      ],
      "metadata": {
        "id": "ljET9GQpFfoq"
      },
      "execution_count": 9,
      "outputs": []
    },
    {
      "cell_type": "code",
      "source": [
        "model.summary()"
      ],
      "metadata": {
        "colab": {
          "base_uri": "https://localhost:8080/"
        },
        "id": "MzRFazKZNayy",
        "outputId": "c8f389e1-142b-44b4-d950-e2d3a158ac37"
      },
      "execution_count": 10,
      "outputs": [
        {
          "output_type": "stream",
          "name": "stdout",
          "text": [
            "Model: \"sequential\"\n",
            "_________________________________________________________________\n",
            " Layer (type)                Output Shape              Param #   \n",
            "=================================================================\n",
            " conv2d (Conv2D)             (None, 26, 26, 32)        320       \n",
            "                                                                 \n",
            " max_pooling2d (MaxPooling2D  (None, 13, 13, 32)       0         \n",
            " )                                                               \n",
            "                                                                 \n",
            " conv2d_1 (Conv2D)           (None, 11, 11, 64)        18496     \n",
            "                                                                 \n",
            " conv2d_2 (Conv2D)           (None, 9, 9, 64)          36928     \n",
            "                                                                 \n",
            " max_pooling2d_1 (MaxPooling  (None, 4, 4, 64)         0         \n",
            " 2D)                                                             \n",
            "                                                                 \n",
            " conv2d_3 (Conv2D)           (None, 2, 2, 128)         73856     \n",
            "                                                                 \n",
            " flatten (Flatten)           (None, 512)               0         \n",
            "                                                                 \n",
            " dense (Dense)               (None, 10)                5130      \n",
            "                                                                 \n",
            "=================================================================\n",
            "Total params: 134,730\n",
            "Trainable params: 134,730\n",
            "Non-trainable params: 0\n",
            "_________________________________________________________________\n"
          ]
        }
      ]
    },
    {
      "cell_type": "code",
      "source": [
        "model.compile(\n",
        "    optimizer = 'adam',\n",
        "    loss = 'sparse_categorical_crossentropy',\n",
        "    metrics = ['accuracy']\n",
        ")"
      ],
      "metadata": {
        "id": "91yP4FqkFP-9"
      },
      "execution_count": 11,
      "outputs": []
    },
    {
      "cell_type": "code",
      "source": [
        "model.fit(train_images, train_labels,  epochs = 5)"
      ],
      "metadata": {
        "colab": {
          "base_uri": "https://localhost:8080/"
        },
        "id": "XRo6X7nBFWQ2",
        "outputId": "b1edd17b-24c2-4658-e68d-9d4478e25711"
      },
      "execution_count": 12,
      "outputs": [
        {
          "output_type": "stream",
          "name": "stdout",
          "text": [
            "Epoch 1/5\n",
            "1875/1875 [==============================] - 99s 52ms/step - loss: 0.2371 - accuracy: 0.9494\n",
            "Epoch 2/5\n",
            "1875/1875 [==============================] - 91s 49ms/step - loss: 0.0607 - accuracy: 0.9817\n",
            "Epoch 3/5\n",
            "1875/1875 [==============================] - 89s 48ms/step - loss: 0.0491 - accuracy: 0.9847\n",
            "Epoch 4/5\n",
            "1875/1875 [==============================] - 91s 48ms/step - loss: 0.0420 - accuracy: 0.9871\n",
            "Epoch 5/5\n",
            "1875/1875 [==============================] - 91s 48ms/step - loss: 0.0352 - accuracy: 0.9892\n"
          ]
        },
        {
          "output_type": "execute_result",
          "data": {
            "text/plain": [
              "<keras.callbacks.History at 0x7f13476bd9d0>"
            ]
          },
          "metadata": {},
          "execution_count": 12
        }
      ]
    },
    {
      "cell_type": "code",
      "source": [
        "test_loss, accuracy = model.evaluate(test_images, test_labels, verbose = 2)\n",
        "print('\\nTest loss : ', test_loss)\n",
        "print('Test accuracy :', accuracy)"
      ],
      "metadata": {
        "colab": {
          "base_uri": "https://localhost:8080/"
        },
        "id": "MiE-23VRGTuK",
        "outputId": "b4b9c0f9-bbf9-498a-e61b-f2a58143857f"
      },
      "execution_count": 13,
      "outputs": [
        {
          "output_type": "stream",
          "name": "stdout",
          "text": [
            "313/313 - 4s - loss: 0.0495 - accuracy: 0.9865 - 4s/epoch - 14ms/step\n",
            "\n",
            "Test loss :  0.04951052740216255\n",
            "Test accuracy : 0.9865000247955322\n"
          ]
        }
      ]
    },
    {
      "cell_type": "markdown",
      "source": [
        "# Before prediction, change test image's type to float32"
      ],
      "metadata": {
        "id": "mbNOnbY2NsMT"
      }
    },
    {
      "cell_type": "code",
      "source": [
        "test_images = tf.cast(test_images, tf.float32)\n",
        "pred = model.predict(test_images)\n",
        "Number = [0,1,2,3,4,5,6,7,8,9]"
      ],
      "metadata": {
        "id": "BnDqdymKISbj"
      },
      "execution_count": 14,
      "outputs": []
    },
    {
      "cell_type": "code",
      "source": [
        "print('Prediction : ', pred.shape)\n",
        "print('Test labels : ', test_labels.shape)"
      ],
      "metadata": {
        "colab": {
          "base_uri": "https://localhost:8080/"
        },
        "id": "1ush8-fHIY18",
        "outputId": "14e0a543-c31a-4a0c-cd4f-e9e67ad83f4b"
      },
      "execution_count": 15,
      "outputs": [
        {
          "output_type": "stream",
          "name": "stdout",
          "text": [
            "Prediction :  (10000, 10)\n",
            "Test labels :  (10000,)\n"
          ]
        }
      ]
    },
    {
      "cell_type": "markdown",
      "source": [
        "# Functions for plot images, probability"
      ],
      "metadata": {
        "id": "JMaDMOIpNyZK"
      }
    },
    {
      "cell_type": "code",
      "source": [
        "def plot_image(i, predictions_array, true_label, img):\n",
        "  predictions_array, true_label, img = predictions_array[i], true_label[i], img[i]\n",
        "  plt.grid(False)\n",
        "  plt.xticks([])\n",
        "  plt.yticks([])\n",
        "\n",
        "  plt.imshow(img, cmap=plt.cm.binary)\n",
        "\n",
        "  predicted_label = np.argmax(predictions_array)\n",
        "  if predicted_label == true_label:\n",
        "    color = 'blue'\n",
        "  else:\n",
        "    color = 'red'\n",
        "\n",
        "  plt.xlabel(\"{} {:2.0f}% ({})\".format(Number[predicted_label],\n",
        "                                100*np.max(predictions_array),\n",
        "                                Number[true_label]),\n",
        "                                color=color)\n",
        "\n",
        "def plot_value_array(i, predictions_array, true_label):\n",
        "  predictions_array, true_label = predictions_array[i], true_label[i]\n",
        "  plt.grid(False)\n",
        "  plt.xticks([])\n",
        "  plt.yticks([])\n",
        "  thisplot = plt.bar(range(10), predictions_array, color=\"#777777\")\n",
        "  plt.ylim([0, 1])\n",
        "  predicted_label = np.argmax(predictions_array)\n",
        "  plt.xticks(Number)\n",
        "\n",
        "  thisplot[predicted_label].set_color('red')\n",
        "  thisplot[true_label].set_color('blue')"
      ],
      "metadata": {
        "id": "3mnmkgdDI-bl"
      },
      "execution_count": 16,
      "outputs": []
    },
    {
      "cell_type": "code",
      "source": [
        "(train_images, train_labels), (test_images, test_labels) = mnist.load_data()"
      ],
      "metadata": {
        "id": "qlLQjqEoJEz4"
      },
      "execution_count": 17,
      "outputs": []
    },
    {
      "cell_type": "code",
      "source": [
        "i = 1\n",
        "plt.figure(figsize=(6,3))\n",
        "plt.subplot(1,2,1)\n",
        "plot_image(i, pred, test_labels, test_images)\n",
        "plt.subplot(1,2,2)\n",
        "plot_value_array(i, pred,  test_labels)\n",
        "plt.show()"
      ],
      "metadata": {
        "colab": {
          "base_uri": "https://localhost:8080/",
          "height": 211
        },
        "id": "9NxGLM0CJGDw",
        "outputId": "e9a285bf-de3a-4a99-dfa5-e8183151d283"
      },
      "execution_count": 18,
      "outputs": [
        {
          "output_type": "display_data",
          "data": {
            "text/plain": [
              "<Figure size 432x216 with 2 Axes>"
            ],
            "image/png": "[encoded data removed]"
          },
          "metadata": {
            "needs_background": "light"
          }
        }
      ]
    },
    {
      "cell_type": "code",
      "source": [
        "num_rows = 5\n",
        "num_cols = 3\n",
        "num_images = num_rows*num_cols\n",
        "plt.figure(figsize=(2*2*num_cols, 2*num_rows))\n",
        "for i in range(num_images):\n",
        "    plt.subplot(num_rows, 2*num_cols, 2*i+1)\n",
        "    plot_image(i, pred, test_labels, test_images)\n",
        "    plt.subplot(num_rows, 2*num_cols, 2*i+2)\n",
        "    plot_value_array(i, pred, test_labels)\n",
        "plt.show()"
      ],
      "metadata": {
        "colab": {
          "base_uri": "https://localhost:8080/",
          "height": 592
        },
        "id": "ArbprxwXJpgt",
        "outputId": "f76b702e-77db-45b2-e9fe-524fcdde168c"
      },
      "execution_count": 19,
      "outputs": [
        {
          "output_type": "display_data",
          "data": {
            "text/plain": [
              "<Figure size 864x720 with 30 Axes>"
            ],
            "image/png": "[encoded data removed]"
          },
          "metadata": {
            "needs_background": "light"
          }
        }
      ]
    },
    {
      "cell_type": "markdown",
      "source": [
        "# Plot images and probability that model predicted wrong"
      ],
      "metadata": {
        "id": "siXos3sSN6Jn"
      }
    },
    {
      "cell_type": "code",
      "source": [
        "def error_mnist(prediction_array, true_label):\n",
        "    error_index = []\n",
        "    \n",
        "    for i in range(true_label.shape[0]):\n",
        "        if np.argmax(prediction_array[i]) != true_label[i]:\n",
        "            error_index.append(i)\n",
        "    return error_index\n",
        "  \n",
        "def plot_error(index, prediction_array, true_label):\n",
        "    num_cols = 5\n",
        "    num_rows = 5\n",
        "    plt.figure(figsize=(2*2*num_cols, 2*num_rows))\n",
        "\n",
        "    assert len(index) < num_cols * num_rows\n",
        "    for i in range(len(index)):\n",
        "        plt.subplot(num_rows, 2*num_cols, 2*i+1)\n",
        "        idx = index[i]\n",
        "        plt.imshow(test_images[idx])\n",
        "        plt.subplot(num_rows, 2*num_cols, 2*i+2)\n",
        "        plt.bar(range(10), prediction_array[idx])\n",
        "        plt.xticks(Number)"
      ],
      "metadata": {
        "id": "AOMBNEL3JvZn"
      },
      "execution_count": 20,
      "outputs": []
    },
    {
      "cell_type": "code",
      "source": [
        "index = error_mnist(pred, test_labels)\n",
        "index_slice = index[:10]\n",
        "print(index[:10])"
      ],
      "metadata": {
        "colab": {
          "base_uri": "https://localhost:8080/"
        },
        "id": "CwLiOhgBJzkI",
        "outputId": "65807ea9-2e05-488c-e2c9-a47fcbb929a0"
      },
      "execution_count": 21,
      "outputs": [
        {
          "output_type": "stream",
          "name": "stdout",
          "text": [
            "[447, 449, 490, 495, 543, 582, 583, 625, 659, 691]\n"
          ]
        }
      ]
    },
    {
      "cell_type": "code",
      "source": [
        "plot_error(index_slice, pred, test_labels)"
      ],
      "metadata": {
        "colab": {
          "base_uri": "https://localhost:8080/",
          "height": 257
        },
        "id": "2GR8Y6joJ8l2",
        "outputId": "3ba0e5bd-7a1a-4950-fea5-95f11b2045b5"
      },
      "execution_count": 22,
      "outputs": [
        {
          "output_type": "display_data",
          "data": {
            "text/plain": [
              "<Figure size 1440x720 with 20 Axes>"
            ],
            "image/png": "[encoded data removed]"
          },
          "metadata": {
            "needs_background": "light"
          }
        }
      ]
    }
  ]
}